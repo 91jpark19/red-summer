{
 "cells": [
  {
   "cell_type": "code",
   "execution_count": 2,
   "metadata": {},
   "outputs": [
    {
     "name": "stdout",
     "output_type": "stream",
     "text": [
      "0    \"Buffalo Bill\" Pioneer Scout Dead in\\nDenver.\\...\n",
      "1    south, a distance of about 10 miles. There the...\n",
      "2    establishing its \"pony express\" across the Ame...\n",
      "3    The large pupils had their regular\\nsocial Fri...\n",
      "4    Winona Literary Society.\\nBy ELIZABETH F. HORS...\n",
      "5    %HIS\\n\\nPaw awl Sells: A Comparison.\\nThe majo...\n",
      "6    mzm\\n\\ncontrol of the secretary of the inte­\\n...\n",
      "7    profited by them are the only ones\\nwho regret...\n",
      "8    ,,,,,\\n\\ni i\\n\\n!iiiitwliiiniihiii*niiiiiiiiii...\n",
      "9    Prpils often view their school days\\nas mere c...\n",
      "Name: text, dtype: object\n"
     ]
    }
   ],
   "source": [
    "import os\n",
    "import pandas as pd\n",
    "\n",
    "directory = '/Volumes/T7/chroniclingamerica/redsummer-keyword/chicago/'\n",
    "\n",
    "for file in os.listdir(directory):\n",
    "    if file.endswith('.csv'):\n",
    "        file_path = os.path.join(directory, file)\n",
    "        df=pd.read_csv(file_path)\n",
    "        print(df.text)\n",
    "        break"
   ]
  },
  {
   "cell_type": "code",
   "execution_count": 33,
   "metadata": {},
   "outputs": [
    {
     "name": "stdout",
     "output_type": "stream",
     "text": [
      "SI.OO PER ANNUM . DOUBT HOUSE NEWS.1 TRANSFERS OF REAL ESTATE , ORPHANS ' i COURT , MARRIAGE LICENSES , ETC . Orphan * * ' Chart . , .Monday\n"
     ]
    }
   ],
   "source": [
    "# sn83025779-part-00015-b1c639dc-2fc8-48be-8660-bd20c571e4e0-c000.feather\n",
    "import os\n",
    "import pandas as pd\n",
    "\n",
    "directory = '/Volumes/T7/chroniclingamerica/redsummer-keyword-pseudo/chicago/'\n",
    "\n",
    "for file in os.listdir(directory):\n",
    "    if file.endswith('sn85038292-part-00015-b1c639dc-2fc8-48be-8660-bd20c571e4e0-c000.feather'):\n",
    "        file_path = os.path.join(directory, file)\n",
    "        df=pd.read_feather(file_path)\n",
    "        print(df.loc[0, 'sent'])\n",
    "        break"
   ]
  },
  {
   "cell_type": "code",
   "execution_count": 30,
   "metadata": {},
   "outputs": [
    {
     "data": {
      "text/plain": [
       "'snyder , phone 11 , 17-tt-biio'"
      ]
     },
     "execution_count": 30,
     "metadata": {},
     "output_type": "execute_result"
    }
   ],
   "source": [
    "df.loc[245810, 'pseudo']"
   ]
  },
  {
   "cell_type": "code",
   "execution_count": 35,
   "metadata": {},
   "outputs": [
    {
     "name": "stdout",
     "output_type": "stream",
     "text": [
      "Index(['sent', 'date'], dtype='object')\n"
     ]
    }
   ],
   "source": [
    "directory = '/Volumes/T7/chroniclingamerica/redsummer-keyword-pseudo/chicago/'\n",
    "for file in os.listdir(directory):\n",
    "    if file.endswith('sn85035524-part-00018-b1c639dc-2fc8-48be-8660-bd20c571e4e0-c000.feather'):\n",
    "        file_path = os.path.join(directory, file)\n",
    "        df=pd.read_feather(file_path)\n",
    "        print(df.columns)\n",
    "        break"
   ]
  }
 ],
 "metadata": {
  "kernelspec": {
   "display_name": "py3.11",
   "language": "python",
   "name": "python3"
  },
  "language_info": {
   "codemirror_mode": {
    "name": "ipython",
    "version": 3
   },
   "file_extension": ".py",
   "mimetype": "text/x-python",
   "name": "python",
   "nbconvert_exporter": "python",
   "pygments_lexer": "ipython3",
   "version": "3.10.9"
  },
  "orig_nbformat": 4
 },
 "nbformat": 4,
 "nbformat_minor": 2
}
