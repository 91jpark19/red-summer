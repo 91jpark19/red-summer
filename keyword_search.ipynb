{
 "cells": [
  {
   "cell_type": "code",
   "execution_count": 1,
   "metadata": {},
   "outputs": [
    {
     "name": "stdout",
     "output_type": "stream",
     "text": [
      "0    \"Buffalo Bill\" Pioneer Scout Dead in\\nDenver.\\...\n",
      "1    south, a distance of about 10 miles. There the...\n",
      "2    establishing its \"pony express\" across the Ame...\n",
      "3    The large pupils had their regular\\nsocial Fri...\n",
      "4    Winona Literary Society.\\nBy ELIZABETH F. HORS...\n",
      "5    %HIS\\n\\nPaw awl Sells: A Comparison.\\nThe majo...\n",
      "6    mzm\\n\\ncontrol of the secretary of the inte­\\n...\n",
      "7    profited by them are the only ones\\nwho regret...\n",
      "8    ,,,,,\\n\\ni i\\n\\n!iiiitwliiiniihiii*niiiiiiiiii...\n",
      "9    Prpils often view their school days\\nas mere c...\n",
      "Name: text, dtype: object\n"
     ]
    }
   ],
   "source": [
    "import os\n",
    "import pandas as pd\n",
    "\n",
    "directory = '/Volumes/T7/chroniclingamerica/redsummer-keyword/chicago2/'\n",
    "\n",
    "for file in os.listdir(directory):\n",
    "    if file.endswith('.csv'):\n",
    "        file_path = os.path.join(directory, file)\n",
    "        df=pd.read_csv(file_path)\n",
    "        print(df.text)\n",
    "        break"
   ]
  }
 ],
 "metadata": {
  "kernelspec": {
   "display_name": "py3.11",
   "language": "python",
   "name": "python3"
  },
  "language_info": {
   "codemirror_mode": {
    "name": "ipython",
    "version": 3
   },
   "file_extension": ".py",
   "mimetype": "text/x-python",
   "name": "python",
   "nbconvert_exporter": "python",
   "pygments_lexer": "ipython3",
   "version": "3.11.0"
  },
  "orig_nbformat": 4
 },
 "nbformat": 4,
 "nbformat_minor": 2
}
